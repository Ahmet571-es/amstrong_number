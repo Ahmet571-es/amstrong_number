{
 "cells": [
  {
   "cell_type": "code",
   "execution_count": 3,
   "metadata": {},
   "outputs": [],
   "source": [
    "class Tc_gir():\n",
    "    def __init__(self):\n",
    "        print(\"Bu sınıfta kişisel bilgilerinizi gireceksiniz.\")\n",
    "        tc_dogru=True\n",
    "        self.tc_dogru=tc_dogru\n",
    "        numbers=[]\n",
    "        self.numbers=numbers\n",
    "        tc_no=input(\"Lütfen kimlik numaranızı giriniz : \")\n",
    "        self.tc_no=tc_no\n",
    "        for i in range(0,1):\n",
    "            if not self.tc_no.isdigit():\n",
    "                print(\"Tc numaranız rakam ile gösterilmelidir.\")\n",
    "                self.tc_dogru=False\n",
    "                break\n",
    "            elif self.tc_no.isdigit():\n",
    "                if len(self.tc_no)!=11:\n",
    "                    print(\"Tc numaranız 11 haneli olmalıdır.\")\n",
    "                    self.tc_dogru=False\n",
    "                    break\n",
    "                elif len(self.tc_no)==11:\n",
    "                    if self.tc_no[0]==0:\n",
    "                        print(\"Tc numaranız 0 ile başlayamaz\")\n",
    "                        self.tc_dogru=False\n",
    "                        break\n",
    "                    elif self.tc_no[0]!=0:\n",
    "                        for i in self.tc_no:\n",
    "                            self.numbers.append(int(i))\n",
    "                        if sum(self.numbers[0:10])%10!=self.numbers[10]:\n",
    "                            print(\"Tc numaranız hatalı\")\n",
    "                            self.tc_dogru=False\n",
    "                            break\n",
    "                        elif sum(self.numbers[0:10])%10==self.numbers[10]:\n",
    "                            a = 7*sum(self.numbers[0:10:2])\n",
    "                            b= sum(self.numbers[1:9:2])\n",
    "                            if (a-b)%10!=self.numbers[9]:\n",
    "                                print(\"Tc numaranız sisteme kayıtlı değildir.\")\n",
    "                                self.tc_dogru=False\n",
    "                                break\n",
    "                            elif (a-b)%10==self.numbers[9]:\n",
    "                                print(\"Tc numaranız doğrulandı.\")\n",
    "                                self.tc_dogru=True"
   ]
  },
  {
   "cell_type": "code",
   "execution_count": 5,
   "metadata": {},
   "outputs": [],
   "source": [
    "class Password(Tc_gir):\n",
    "    def __init__(self):\n",
    "        Tc_gir.__init__(self)\n",
    "        for i in range(0,1):\n",
    "            pass_dogru=True\n",
    "            self.pass_dogru=pass_dogru\n",
    "            if self.tc_dogru==False:\n",
    "                print(\"Tc numaranız doğrulanmadan şifre giremessiniz...\")\n",
    "                break\n",
    "            elif self.tc_dogru==True:\n",
    "                print(\"Şifreniz 6 haneli olmalı. ilk iki rakamı 1 veya 2 ile başlamamalı. Rakamlardan oluşmalı!!\")\n",
    "                password=input(\"lütfen şifrenizi giriniz : \")\n",
    "                self.password=password\n",
    "                if not self.password.isdigit():\n",
    "                    print(\"Rakam girmek zorundasınız.\")\n",
    "                    self.pass_dogru=False\n",
    "                    break\n",
    "                elif self.password.isdigit():\n",
    "                    if len(self.password)!=6:\n",
    "                        print(\"Şifreniz 6 karakterli olmalıdır.\")\n",
    "                        self.pass_dogru=False\n",
    "                        break\n",
    "                    elif len(self.password)==6:\n",
    "                        if self.password[0]==\"0\" or self.password[0]==\"1\" or self.password[0]==\"2\":\n",
    "                            print(\"Şifreniz 0,1 veya 2 ile başlayamaz\")\n",
    "                            self.pass_dogru=False\n",
    "                            break\n",
    "                        elif self.password[0]!=\"0\" or self.password[0]!=\"1\" or self.password[0]!=\"2\":\n",
    "                            if self.password[0]==self.password[1]== self.password[2]== self.password[3]==self.password[4]==self.password[5]:\n",
    "                                print(\"Değerlerin tamamı birbirine eşit olamaz!\")\n",
    "                                self.pass_dogru=False\n",
    "                                break\n",
    "                            elif self.password[0]!=self.password[1]!=self.password[2]!= self.password[3]!=self.password[4]!=self.password[5]:\n",
    "                                if self.password[1]== self.password[2]== self.password[3]==self.password[4]==self.password[5]:\n",
    "                                    print(\"Hatalı şifre giriyorsunuz\")\n",
    "                                    self.pass_dogru=False\n",
    "                                    break\n",
    "                                elif self.password[1]!=self.password[2]!= self.password[3]!=self.password[4]!=self.password[5]:\n",
    "                                    if self.password[3]==self.password[4]==self.password[5]:\n",
    "                                        print(\"Hatalı şifre giriyorsunuz\")\n",
    "                                        self.pass_dogru=False\n",
    "                                        break\n",
    "                                    elif self.password[3]!=self.password[4]!=self.password[5]:\n",
    "                                        if self.password[4]==self.password[5]:\n",
    "                                            print(\"Hatalı şifre giriyorsunuz\")\n",
    "                                            self.pass_dogru=False\n",
    "                                            break\n",
    "                                        elif self.password[4]!=self.password[5]:\n",
    "                                            if self.password[0]==self.password[1] or self.password[0]==self.password[2] or self.password[0]==self.password[3]:\n",
    "                                                print(\"Hatalı giriş\")\n",
    "                                                self.pass_dogru=False\n",
    "                                                break\n",
    "                                            elif self.password[0]!=self.password[1] and self.password[0]!=self.password[2] and self.password[0]!=self.password[3]:\n",
    "                                                if self.password[0]==self.password[4] or self.password[0]==self.password[5]:\n",
    "                                                    print(\"Hatalı giriş yaptınız\")\n",
    "                                                    self.pass_dogru=False\n",
    "                                                    break\n",
    "                                                elif self.password[0]!=self.password[4] and self.password[0]!=self.password[5]:\n",
    "                                                    print(\"Şifre girişiniz onaylandı\")\n",
    "                                                    self.pass_dogru=True"
   ]
  },
  {
   "cell_type": "code",
   "execution_count": 7,
   "metadata": {},
   "outputs": [
    {
     "name": "stdout",
     "output_type": "stream",
     "text": [
      "Bu sınıfta kişisel bilgilerinizi gireceksiniz.\n",
      "Lütfen kimlik numaranızı giriniz : 1456328796\n",
      "Tc numaranız 11 haneli olmalıdır.\n",
      "Tc numaranız doğrulanmadan şifre giremessiniz...\n"
     ]
    }
   ],
   "source": [
    "p=Password()"
   ]
  },
  {
   "cell_type": "code",
   "execution_count": 19,
   "metadata": {},
   "outputs": [],
   "source": [
    "class Hesap_ac(Password):\n",
    "    def __init__(self):\n",
    "        Password.__init__(self)\n",
    "        for i in range(0,1):\n",
    "            if self.tc_dogru==False or self.pass_dogru==False:\n",
    "                print(\"Şifre giremediğiniz için para yatıramassınız\")\n",
    "                break \n",
    "            elif self.tc_dogru and self.pass_dogru==True:\n",
    "                name=input(\"Lütfen adınız giriniz : \")\n",
    "                surname=input(\"Lütfen soyadınız giriniz : \")\n",
    "                print(\"Not günlük en fazla para yatırma miktarı 5000 tl dir. \")\n",
    "                print(\"Not günlük en az para yatırma miktarı 10 tl. Yatırılan para 10 un katları olmak zorundadır.\")\n",
    "                money = int(input(\"Lütfen yatırmak istediğiniz parayı giriniz : \"))\n",
    "                if money>5000:\n",
    "                    print(\"Yatırılan tutar 5000 tl üzeri olamaz\")\n",
    "                    break\n",
    "                elif money<5000:\n",
    "                    if money<10:\n",
    "                        print(\"Para yatırma işleminiz başarısız oldu\")\n",
    "                        break\n",
    "                    elif money>10:\n",
    "                        if money%10!=0:\n",
    "                            print(\"10 un katları üzerinde yatırmalısınız\")\n",
    "                            break\n",
    "                        elif money%10== 0:\n",
    "                            print(\"Para yatırma işleminiz başarılı bir şekilde gerçekleşti.\")\n",
    "                            print(f\"Hesabınızda {money} TL paranız var.\")"
   ]
  },
  {
   "cell_type": "code",
   "execution_count": 20,
   "metadata": {},
   "outputs": [
    {
     "name": "stdout",
     "output_type": "stream",
     "text": [
      "Bu sınıfta kişisel bilgilerinizi gireceksiniz.\n",
      "Lütfen kimlik numaranızı giriniz : 21456983278\n",
      "Tc numaranız hatalı\n",
      "Tc numaranız doğrulanmadan şifre giremessiniz...\n",
      "Şifre giremediğiniz için para yatıramassınız\n"
     ]
    }
   ],
   "source": [
    "h=Hesap_ac()"
   ]
  },
  {
   "cell_type": "code",
   "execution_count": null,
   "metadata": {},
   "outputs": [],
   "source": []
  }
 ],
 "metadata": {
  "kernelspec": {
   "display_name": "Python 3",
   "language": "python",
   "name": "python3"
  },
  "language_info": {
   "codemirror_mode": {
    "name": "ipython",
    "version": 3
   },
   "file_extension": ".py",
   "mimetype": "text/x-python",
   "name": "python",
   "nbconvert_exporter": "python",
   "pygments_lexer": "ipython3",
   "version": "3.8.5"
  }
 },
 "nbformat": 4,
 "nbformat_minor": 4
}
