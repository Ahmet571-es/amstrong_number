{
 "cells": [
  {
   "cell_type": "code",
   "execution_count": null,
   "metadata": {},
   "outputs": [],
   "source": [
    "def amstrong_number():\n",
    "    for i in range(0,1):\n",
    "        sayi=int(input(\"Lütfen bir sayı giriniz : \"))\n",
    "        if sayi<=0:\n",
    "            print(\"pozitif bir sayı giriniz.\")\n",
    "            break\n",
    "        elif sayi>0:\n",
    "            basamak=len(str(sayi))\n",
    "            if basamak==1:\n",
    "                print(\"Tek basamklı sayı giremessiniz.\")\n",
    "                break\n",
    "            elif basamak>1:\n",
    "                toplam=0\n",
    "                for i in str(sayi):\n",
    "                    toplam=toplam+(int(i)**basamak)\n",
    "                print(f\"sayıların rakamlara ayırıp basamak sayısı kadar üssünü alıp toplayınca çıkan sonuç = {toplam}\")\n",
    "                if toplam==sayi:\n",
    "                    print(f\"Girilen sayi = {sayi} bir amstrong sayısıdır.\")\n",
    "                elif toplam!=sayi:\n",
    "                    print(f\"Girilen sayi = {sayi} bir amstrong sayısı değildir.\")"
   ]
  }
 ],
 "metadata": {
  "kernelspec": {
   "display_name": "Python 3",
   "language": "python",
   "name": "python3"
  },
  "language_info": {
   "codemirror_mode": {
    "name": "ipython",
    "version": 3
   },
   "file_extension": ".py",
   "mimetype": "text/x-python",
   "name": "python",
   "nbconvert_exporter": "python",
   "pygments_lexer": "ipython3",
   "version": "3.8.5"
  }
 },
 "nbformat": 4,
 "nbformat_minor": 4
}
